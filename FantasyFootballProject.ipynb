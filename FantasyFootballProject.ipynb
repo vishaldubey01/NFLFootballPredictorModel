{
 "cells": [
  {
   "cell_type": "code",
   "execution_count": 2,
   "metadata": {},
   "outputs": [],
   "source": [
    "import numpy as np\n",
    "import patsy as pt\n",
    "from patsy.contrasts import Treatment\n",
    "import pandas as pd\n",
    "import seaborn as sns\n",
    "import matplotlib.pyplot as plt\n",
    "import sklearn.linear_model as lm\n",
    "import seaborn as sns\n",
    "from statsmodels.tools.tools import add_constant\n",
    "import statsmodels.api as sm\n",
    "from sklearn.linear_model import Lasso\n",
    "from sklearn.linear_model import LinearRegression\n",
    "from sklearn.model_selection import train_test_split\n",
    "import sklearn.metrics as metrics\n",
    "%matplotlib inline"
   ]
  },
  {
   "cell_type": "code",
   "execution_count": 3,
   "metadata": {},
   "outputs": [
    {
     "data": {
      "text/html": [
       "<div>\n",
       "<style scoped>\n",
       "    .dataframe tbody tr th:only-of-type {\n",
       "        vertical-align: middle;\n",
       "    }\n",
       "\n",
       "    .dataframe tbody tr th {\n",
       "        vertical-align: top;\n",
       "    }\n",
       "\n",
       "    .dataframe thead th {\n",
       "        text-align: right;\n",
       "    }\n",
       "</style>\n",
       "<table border=\"1\" class=\"dataframe\">\n",
       "  <thead>\n",
       "    <tr style=\"text-align: right;\">\n",
       "      <th></th>\n",
       "      <th>l_names</th>\n",
       "      <th>l_team18</th>\n",
       "      <th>l_pos18</th>\n",
       "      <th>l_gp18</th>\n",
       "      <th>l_points18</th>\n",
       "      <th>draft_pick</th>\n",
       "      <th>cost</th>\n",
       "      <th>l_team17</th>\n",
       "      <th>l_pos17</th>\n",
       "      <th>l_gp17</th>\n",
       "      <th>...</th>\n",
       "      <th>pick17</th>\n",
       "      <th>cost17</th>\n",
       "      <th>off_linefo18</th>\n",
       "      <th>off_linepff18</th>\n",
       "      <th>off_passydsg17</th>\n",
       "      <th>off_runydsg17</th>\n",
       "      <th>off_ptsg17</th>\n",
       "      <th>def_ydsg17</th>\n",
       "      <th>def_ptsg17</th>\n",
       "      <th>train</th>\n",
       "    </tr>\n",
       "  </thead>\n",
       "  <tbody>\n",
       "    <tr>\n",
       "      <th>0</th>\n",
       "      <td>Brandon LaFell</td>\n",
       "      <td>Oak</td>\n",
       "      <td>WR</td>\n",
       "      <td>6</td>\n",
       "      <td>46.000000</td>\n",
       "      <td>NaN</td>\n",
       "      <td>NaN</td>\n",
       "      <td>Cin</td>\n",
       "      <td>WR</td>\n",
       "      <td>16.0</td>\n",
       "      <td>...</td>\n",
       "      <td>228.0</td>\n",
       "      <td>2.0</td>\n",
       "      <td>13</td>\n",
       "      <td>7</td>\n",
       "      <td>226.89999</td>\n",
       "      <td>97.099998</td>\n",
       "      <td>18.799999</td>\n",
       "      <td>350.10001</td>\n",
       "      <td>23.299999</td>\n",
       "      <td>0.868933</td>\n",
       "    </tr>\n",
       "    <tr>\n",
       "      <th>1</th>\n",
       "      <td>Lance Kendricks</td>\n",
       "      <td>NE</td>\n",
       "      <td>TE</td>\n",
       "      <td>16</td>\n",
       "      <td>47.330002</td>\n",
       "      <td>NaN</td>\n",
       "      <td>NaN</td>\n",
       "      <td>GB</td>\n",
       "      <td>TE</td>\n",
       "      <td>16.0</td>\n",
       "      <td>...</td>\n",
       "      <td>NaN</td>\n",
       "      <td>NaN</td>\n",
       "      <td>3</td>\n",
       "      <td>11</td>\n",
       "      <td>276.10001</td>\n",
       "      <td>118.100000</td>\n",
       "      <td>28.600000</td>\n",
       "      <td>366.00000</td>\n",
       "      <td>18.500000</td>\n",
       "      <td>0.555103</td>\n",
       "    </tr>\n",
       "    <tr>\n",
       "      <th>2</th>\n",
       "      <td>Cody Kessler</td>\n",
       "      <td>Phi</td>\n",
       "      <td>QB</td>\n",
       "      <td>5</td>\n",
       "      <td>47.660000</td>\n",
       "      <td>NaN</td>\n",
       "      <td>NaN</td>\n",
       "      <td>NaN</td>\n",
       "      <td>NaN</td>\n",
       "      <td>NaN</td>\n",
       "      <td>...</td>\n",
       "      <td>NaN</td>\n",
       "      <td>NaN</td>\n",
       "      <td>19</td>\n",
       "      <td>1</td>\n",
       "      <td>233.60001</td>\n",
       "      <td>132.200000</td>\n",
       "      <td>28.600000</td>\n",
       "      <td>306.50000</td>\n",
       "      <td>18.400000</td>\n",
       "      <td>0.875991</td>\n",
       "    </tr>\n",
       "    <tr>\n",
       "      <th>3</th>\n",
       "      <td>James O'Shaughnessy</td>\n",
       "      <td>Jax</td>\n",
       "      <td>TE</td>\n",
       "      <td>14</td>\n",
       "      <td>48.270000</td>\n",
       "      <td>NaN</td>\n",
       "      <td>NaN</td>\n",
       "      <td>NaN</td>\n",
       "      <td>NaN</td>\n",
       "      <td>NaN</td>\n",
       "      <td>...</td>\n",
       "      <td>NaN</td>\n",
       "      <td>NaN</td>\n",
       "      <td>21</td>\n",
       "      <td>15</td>\n",
       "      <td>224.60001</td>\n",
       "      <td>141.399990</td>\n",
       "      <td>26.100000</td>\n",
       "      <td>286.10001</td>\n",
       "      <td>16.799999</td>\n",
       "      <td>0.892759</td>\n",
       "    </tr>\n",
       "    <tr>\n",
       "      <th>4</th>\n",
       "      <td>D.J. Chark Jr.</td>\n",
       "      <td>Jax</td>\n",
       "      <td>WR</td>\n",
       "      <td>11</td>\n",
       "      <td>48.400002</td>\n",
       "      <td>NaN</td>\n",
       "      <td>NaN</td>\n",
       "      <td>NaN</td>\n",
       "      <td>NaN</td>\n",
       "      <td>NaN</td>\n",
       "      <td>...</td>\n",
       "      <td>NaN</td>\n",
       "      <td>NaN</td>\n",
       "      <td>21</td>\n",
       "      <td>15</td>\n",
       "      <td>224.60001</td>\n",
       "      <td>141.399990</td>\n",
       "      <td>26.100000</td>\n",
       "      <td>286.10001</td>\n",
       "      <td>16.799999</td>\n",
       "      <td>0.584466</td>\n",
       "    </tr>\n",
       "  </tbody>\n",
       "</table>\n",
       "<p>5 rows × 38 columns</p>\n",
       "</div>"
      ],
      "text/plain": [
       "               l_names l_team18 l_pos18  l_gp18  l_points18  draft_pick  cost  \\\n",
       "0       Brandon LaFell      Oak      WR       6   46.000000         NaN   NaN   \n",
       "1      Lance Kendricks       NE      TE      16   47.330002         NaN   NaN   \n",
       "2         Cody Kessler      Phi      QB       5   47.660000         NaN   NaN   \n",
       "3  James O'Shaughnessy      Jax      TE      14   48.270000         NaN   NaN   \n",
       "4       D.J. Chark Jr.      Jax      WR      11   48.400002         NaN   NaN   \n",
       "\n",
       "  l_team17 l_pos17  l_gp17  ...  pick17  cost17  off_linefo18  off_linepff18  \\\n",
       "0      Cin      WR    16.0  ...   228.0     2.0            13              7   \n",
       "1       GB      TE    16.0  ...     NaN     NaN             3             11   \n",
       "2      NaN     NaN     NaN  ...     NaN     NaN            19              1   \n",
       "3      NaN     NaN     NaN  ...     NaN     NaN            21             15   \n",
       "4      NaN     NaN     NaN  ...     NaN     NaN            21             15   \n",
       "\n",
       "   off_passydsg17  off_runydsg17  off_ptsg17  def_ydsg17  def_ptsg17     train  \n",
       "0       226.89999      97.099998   18.799999   350.10001   23.299999  0.868933  \n",
       "1       276.10001     118.100000   28.600000   366.00000   18.500000  0.555103  \n",
       "2       233.60001     132.200000   28.600000   306.50000   18.400000  0.875991  \n",
       "3       224.60001     141.399990   26.100000   286.10001   16.799999  0.892759  \n",
       "4       224.60001     141.399990   26.100000   286.10001   16.799999  0.584466  \n",
       "\n",
       "[5 rows x 38 columns]"
      ]
     },
     "execution_count": 3,
     "metadata": {},
     "output_type": "execute_result"
    }
   ],
   "source": [
    "url = '/Users/VishalDubey/Vishal/College/polsci189fs/FF Project/train75.csv'\n",
    "df = pd.read_csv(url)\n",
    "data = df\n",
    "data.head()"
   ]
  },
  {
   "cell_type": "code",
   "execution_count": 4,
   "metadata": {},
   "outputs": [
    {
     "data": {
      "text/html": [
       "<div>\n",
       "<style scoped>\n",
       "    .dataframe tbody tr th:only-of-type {\n",
       "        vertical-align: middle;\n",
       "    }\n",
       "\n",
       "    .dataframe tbody tr th {\n",
       "        vertical-align: top;\n",
       "    }\n",
       "\n",
       "    .dataframe thead th {\n",
       "        text-align: right;\n",
       "    }\n",
       "</style>\n",
       "<table border=\"1\" class=\"dataframe\">\n",
       "  <thead>\n",
       "    <tr style=\"text-align: right;\">\n",
       "      <th></th>\n",
       "      <th>l_gp18</th>\n",
       "      <th>l_points18</th>\n",
       "      <th>draft_pick</th>\n",
       "      <th>cost</th>\n",
       "      <th>l_gp17</th>\n",
       "      <th>l_points17</th>\n",
       "      <th>l_owners17</th>\n",
       "      <th>l_project17</th>\n",
       "      <th>l_actual17</th>\n",
       "      <th>l_passyds17</th>\n",
       "      <th>...</th>\n",
       "      <th>pick17</th>\n",
       "      <th>cost17</th>\n",
       "      <th>off_linefo18</th>\n",
       "      <th>off_linepff18</th>\n",
       "      <th>off_passydsg17</th>\n",
       "      <th>off_runydsg17</th>\n",
       "      <th>off_ptsg17</th>\n",
       "      <th>def_ydsg17</th>\n",
       "      <th>def_ptsg17</th>\n",
       "      <th>train</th>\n",
       "    </tr>\n",
       "  </thead>\n",
       "  <tbody>\n",
       "    <tr>\n",
       "      <th>count</th>\n",
       "      <td>171.000000</td>\n",
       "      <td>171.000000</td>\n",
       "      <td>90.000000</td>\n",
       "      <td>90.000000</td>\n",
       "      <td>119.000000</td>\n",
       "      <td>119.000000</td>\n",
       "      <td>122.000000</td>\n",
       "      <td>122.000000</td>\n",
       "      <td>122.000000</td>\n",
       "      <td>117.000000</td>\n",
       "      <td>...</td>\n",
       "      <td>82.000000</td>\n",
       "      <td>82.00000</td>\n",
       "      <td>171.000000</td>\n",
       "      <td>171.000000</td>\n",
       "      <td>171.000000</td>\n",
       "      <td>171.000000</td>\n",
       "      <td>171.000000</td>\n",
       "      <td>171.000000</td>\n",
       "      <td>171.000000</td>\n",
       "      <td>171.000000</td>\n",
       "    </tr>\n",
       "    <tr>\n",
       "      <th>mean</th>\n",
       "      <td>13.444444</td>\n",
       "      <td>157.336492</td>\n",
       "      <td>99.400000</td>\n",
       "      <td>18.866667</td>\n",
       "      <td>13.336134</td>\n",
       "      <td>156.424033</td>\n",
       "      <td>0.494098</td>\n",
       "      <td>428.516393</td>\n",
       "      <td>245.778689</td>\n",
       "      <td>232.478632</td>\n",
       "      <td>...</td>\n",
       "      <td>104.939024</td>\n",
       "      <td>18.54878</td>\n",
       "      <td>15.988304</td>\n",
       "      <td>16.432749</td>\n",
       "      <td>220.116372</td>\n",
       "      <td>111.870175</td>\n",
       "      <td>21.486550</td>\n",
       "      <td>334.105268</td>\n",
       "      <td>21.710526</td>\n",
       "      <td>0.761444</td>\n",
       "    </tr>\n",
       "    <tr>\n",
       "      <th>std</th>\n",
       "      <td>3.128824</td>\n",
       "      <td>93.443599</td>\n",
       "      <td>67.594595</td>\n",
       "      <td>18.126398</td>\n",
       "      <td>3.712730</td>\n",
       "      <td>90.705809</td>\n",
       "      <td>0.418807</td>\n",
       "      <td>691.928163</td>\n",
       "      <td>214.958866</td>\n",
       "      <td>825.844892</td>\n",
       "      <td>...</td>\n",
       "      <td>68.596215</td>\n",
       "      <td>15.75989</td>\n",
       "      <td>9.304008</td>\n",
       "      <td>9.149084</td>\n",
       "      <td>30.885898</td>\n",
       "      <td>15.210753</td>\n",
       "      <td>4.082257</td>\n",
       "      <td>24.934733</td>\n",
       "      <td>2.708941</td>\n",
       "      <td>0.132216</td>\n",
       "    </tr>\n",
       "    <tr>\n",
       "      <th>min</th>\n",
       "      <td>4.000000</td>\n",
       "      <td>46.000000</td>\n",
       "      <td>1.000000</td>\n",
       "      <td>1.000000</td>\n",
       "      <td>1.000000</td>\n",
       "      <td>3.130000</td>\n",
       "      <td>0.000000</td>\n",
       "      <td>1.000000</td>\n",
       "      <td>1.000000</td>\n",
       "      <td>0.000000</td>\n",
       "      <td>...</td>\n",
       "      <td>3.000000</td>\n",
       "      <td>1.00000</td>\n",
       "      <td>1.000000</td>\n",
       "      <td>1.000000</td>\n",
       "      <td>175.700000</td>\n",
       "      <td>76.300003</td>\n",
       "      <td>14.600000</td>\n",
       "      <td>275.899990</td>\n",
       "      <td>15.800000</td>\n",
       "      <td>0.502767</td>\n",
       "    </tr>\n",
       "    <tr>\n",
       "      <th>25%</th>\n",
       "      <td>12.000000</td>\n",
       "      <td>87.334999</td>\n",
       "      <td>36.500000</td>\n",
       "      <td>3.000000</td>\n",
       "      <td>12.000000</td>\n",
       "      <td>89.235001</td>\n",
       "      <td>0.060000</td>\n",
       "      <td>56.000000</td>\n",
       "      <td>102.250000</td>\n",
       "      <td>0.000000</td>\n",
       "      <td>...</td>\n",
       "      <td>44.000000</td>\n",
       "      <td>4.00000</td>\n",
       "      <td>9.000000</td>\n",
       "      <td>8.500000</td>\n",
       "      <td>196.300000</td>\n",
       "      <td>103.800000</td>\n",
       "      <td>18.400000</td>\n",
       "      <td>318.399990</td>\n",
       "      <td>19.850001</td>\n",
       "      <td>0.664764</td>\n",
       "    </tr>\n",
       "    <tr>\n",
       "      <th>50%</th>\n",
       "      <td>15.000000</td>\n",
       "      <td>133.470000</td>\n",
       "      <td>85.500000</td>\n",
       "      <td>15.000000</td>\n",
       "      <td>15.000000</td>\n",
       "      <td>141.570010</td>\n",
       "      <td>0.455000</td>\n",
       "      <td>128.500000</td>\n",
       "      <td>204.500000</td>\n",
       "      <td>0.000000</td>\n",
       "      <td>...</td>\n",
       "      <td>99.000000</td>\n",
       "      <td>16.00000</td>\n",
       "      <td>15.000000</td>\n",
       "      <td>16.000000</td>\n",
       "      <td>220.899990</td>\n",
       "      <td>111.800000</td>\n",
       "      <td>20.900000</td>\n",
       "      <td>335.700010</td>\n",
       "      <td>22.299999</td>\n",
       "      <td>0.754243</td>\n",
       "    </tr>\n",
       "    <tr>\n",
       "      <th>75%</th>\n",
       "      <td>16.000000</td>\n",
       "      <td>207.214995</td>\n",
       "      <td>156.750000</td>\n",
       "      <td>30.000000</td>\n",
       "      <td>16.000000</td>\n",
       "      <td>220.954995</td>\n",
       "      <td>0.957500</td>\n",
       "      <td>241.250000</td>\n",
       "      <td>301.750000</td>\n",
       "      <td>0.000000</td>\n",
       "      <td>...</td>\n",
       "      <td>163.250000</td>\n",
       "      <td>28.00000</td>\n",
       "      <td>23.500000</td>\n",
       "      <td>24.000000</td>\n",
       "      <td>245.300000</td>\n",
       "      <td>122.200000</td>\n",
       "      <td>24.700001</td>\n",
       "      <td>352.299990</td>\n",
       "      <td>23.900000</td>\n",
       "      <td>0.871857</td>\n",
       "    </tr>\n",
       "    <tr>\n",
       "      <th>max</th>\n",
       "      <td>16.000000</td>\n",
       "      <td>427.769990</td>\n",
       "      <td>223.000000</td>\n",
       "      <td>67.000000</td>\n",
       "      <td>16.000000</td>\n",
       "      <td>441.030000</td>\n",
       "      <td>1.000000</td>\n",
       "      <td>1967.000000</td>\n",
       "      <td>850.000000</td>\n",
       "      <td>3804.000000</td>\n",
       "      <td>...</td>\n",
       "      <td>228.000000</td>\n",
       "      <td>60.00000</td>\n",
       "      <td>32.000000</td>\n",
       "      <td>32.000000</td>\n",
       "      <td>276.899990</td>\n",
       "      <td>141.399990</td>\n",
       "      <td>29.900000</td>\n",
       "      <td>378.100010</td>\n",
       "      <td>27.299999</td>\n",
       "      <td>0.999751</td>\n",
       "    </tr>\n",
       "  </tbody>\n",
       "</table>\n",
       "<p>8 rows × 33 columns</p>\n",
       "</div>"
      ],
      "text/plain": [
       "           l_gp18  l_points18  draft_pick       cost      l_gp17  l_points17  \\\n",
       "count  171.000000  171.000000   90.000000  90.000000  119.000000  119.000000   \n",
       "mean    13.444444  157.336492   99.400000  18.866667   13.336134  156.424033   \n",
       "std      3.128824   93.443599   67.594595  18.126398    3.712730   90.705809   \n",
       "min      4.000000   46.000000    1.000000   1.000000    1.000000    3.130000   \n",
       "25%     12.000000   87.334999   36.500000   3.000000   12.000000   89.235001   \n",
       "50%     15.000000  133.470000   85.500000  15.000000   15.000000  141.570010   \n",
       "75%     16.000000  207.214995  156.750000  30.000000   16.000000  220.954995   \n",
       "max     16.000000  427.769990  223.000000  67.000000   16.000000  441.030000   \n",
       "\n",
       "       l_owners17  l_project17  l_actual17  l_passyds17  ...      pick17  \\\n",
       "count  122.000000   122.000000  122.000000   117.000000  ...   82.000000   \n",
       "mean     0.494098   428.516393  245.778689   232.478632  ...  104.939024   \n",
       "std      0.418807   691.928163  214.958866   825.844892  ...   68.596215   \n",
       "min      0.000000     1.000000    1.000000     0.000000  ...    3.000000   \n",
       "25%      0.060000    56.000000  102.250000     0.000000  ...   44.000000   \n",
       "50%      0.455000   128.500000  204.500000     0.000000  ...   99.000000   \n",
       "75%      0.957500   241.250000  301.750000     0.000000  ...  163.250000   \n",
       "max      1.000000  1967.000000  850.000000  3804.000000  ...  228.000000   \n",
       "\n",
       "         cost17  off_linefo18  off_linepff18  off_passydsg17  off_runydsg17  \\\n",
       "count  82.00000    171.000000     171.000000      171.000000     171.000000   \n",
       "mean   18.54878     15.988304      16.432749      220.116372     111.870175   \n",
       "std    15.75989      9.304008       9.149084       30.885898      15.210753   \n",
       "min     1.00000      1.000000       1.000000      175.700000      76.300003   \n",
       "25%     4.00000      9.000000       8.500000      196.300000     103.800000   \n",
       "50%    16.00000     15.000000      16.000000      220.899990     111.800000   \n",
       "75%    28.00000     23.500000      24.000000      245.300000     122.200000   \n",
       "max    60.00000     32.000000      32.000000      276.899990     141.399990   \n",
       "\n",
       "       off_ptsg17  def_ydsg17  def_ptsg17       train  \n",
       "count  171.000000  171.000000  171.000000  171.000000  \n",
       "mean    21.486550  334.105268   21.710526    0.761444  \n",
       "std      4.082257   24.934733    2.708941    0.132216  \n",
       "min     14.600000  275.899990   15.800000    0.502767  \n",
       "25%     18.400000  318.399990   19.850001    0.664764  \n",
       "50%     20.900000  335.700010   22.299999    0.754243  \n",
       "75%     24.700001  352.299990   23.900000    0.871857  \n",
       "max     29.900000  378.100010   27.299999    0.999751  \n",
       "\n",
       "[8 rows x 33 columns]"
      ]
     },
     "execution_count": 4,
     "metadata": {},
     "output_type": "execute_result"
    }
   ],
   "source": [
    "data.describe()"
   ]
  },
  {
   "cell_type": "code",
   "execution_count": 5,
   "metadata": {
    "scrolled": false
   },
   "outputs": [],
   "source": [
    "\n",
    "dummyCols=pd.get_dummies(data.l_pos17)\n",
    "data = pd.concat([data, dummyCols], axis=1)\n",
    "data['owners2'] = data.l_owners17**2\n",
    "data['rec2'] = data.l_rectd17**2\n",
    "data['pass2'] = data.l_passtd17**2\n",
    "data['rush2'] = data.l_rushtd17**2\n"
   ]
  },
  {
   "cell_type": "code",
   "execution_count": 6,
   "metadata": {},
   "outputs": [],
   "source": [
    "#vals = ['l_gp17', 'l_points17', 'l_owners17', 'l_project17', 'l_actual17', 'l_passtd17', 'l_passint17', 'l_rushyds17', 'l_rushtd17', 'l_recepts17', 'l_recyds17', 'l_rectd17', 'off_linefo18', 'off_linepff18', 'off_passydsg17', 'off_runydsg17', 'off_ptsg17']\n",
    "#vals = ['WR', 'RB', 'TE', 'QB','l_gp17', 'l_points17', 'l_owners17', 'l_project17', 'l_actual17', 'l_recepts17', 'l_recyds17', 'l_rectd17', 'l_rec1st17', 'l_passtd17', 'l_passint17', 'l_passyds17', 'l_rushyds17', 'l_rushtd17', 'l_rush1st17', 'l_recepts17', 'l_recyds17', 'l_rectd17',  'off_linefo18', 'off_linepff18', 'off_passydsg17', 'off_runydsg17', 'off_ptsg17']\n",
    "vals = ['l_actual17', 'l_points17', 'l_owners17', 'l_passtd17', 'l_passint17', 'l_rushyds17', 'l_rushtd17', 'l_recepts17', 'l_recyds17', 'l_rectd17']\n"
   ]
  },
  {
   "cell_type": "code",
   "execution_count": null,
   "metadata": {},
   "outputs": [],
   "source": []
  },
  {
   "cell_type": "code",
   "execution_count": 7,
   "metadata": {},
   "outputs": [],
   "source": [
    "ls = []\n",
    "for i in range(len(vals)):\n",
    "    st = data[vals[i]].isna()\n",
    "    for j in range(len(st)):\n",
    "        if(st[j] and (j not in ls)):\n",
    "            ls.append(j)\n",
    "data = data.drop(ls)"
   ]
  },
  {
   "cell_type": "code",
   "execution_count": 8,
   "metadata": {},
   "outputs": [
    {
     "data": {
      "text/plain": [
       "(113, 46)"
      ]
     },
     "execution_count": 8,
     "metadata": {},
     "output_type": "execute_result"
    }
   ],
   "source": [
    "data.shape"
   ]
  },
  {
   "cell_type": "code",
   "execution_count": 9,
   "metadata": {},
   "outputs": [
    {
     "data": {
      "image/png": "[encoded data removed]",
      "text/plain": [
       "<Figure size 432x288 with 1 Axes>"
      ]
     },
     "metadata": {
      "needs_background": "light"
     },
     "output_type": "display_data"
    }
   ],
   "source": [
    "data.plot(x='l_points17', y='l_points18', style='o')  \n",
    "plt.xlabel('Predictor')  \n",
    "plt.ylabel('Points 18')  \n",
    "plt.show()"
   ]
  },
  {
   "cell_type": "code",
   "execution_count": null,
   "metadata": {},
   "outputs": [],
   "source": []
  },
  {
   "cell_type": "code",
   "execution_count": 10,
   "metadata": {},
   "outputs": [
    {
     "data": {
      "text/html": [
       "<div>\n",
       "<style scoped>\n",
       "    .dataframe tbody tr th:only-of-type {\n",
       "        vertical-align: middle;\n",
       "    }\n",
       "\n",
       "    .dataframe tbody tr th {\n",
       "        vertical-align: top;\n",
       "    }\n",
       "\n",
       "    .dataframe thead th {\n",
       "        text-align: right;\n",
       "    }\n",
       "</style>\n",
       "<table border=\"1\" class=\"dataframe\">\n",
       "  <thead>\n",
       "    <tr style=\"text-align: right;\">\n",
       "      <th></th>\n",
       "      <th>l_names</th>\n",
       "      <th>l_team18</th>\n",
       "      <th>l_pos18</th>\n",
       "      <th>l_gp18</th>\n",
       "      <th>l_points18</th>\n",
       "      <th>draft_pick</th>\n",
       "      <th>cost</th>\n",
       "      <th>l_team17</th>\n",
       "      <th>l_pos17</th>\n",
       "      <th>l_gp17</th>\n",
       "      <th>...</th>\n",
       "      <th>def_ptsg17</th>\n",
       "      <th>train</th>\n",
       "      <th>QB</th>\n",
       "      <th>RB</th>\n",
       "      <th>TE</th>\n",
       "      <th>WR</th>\n",
       "      <th>owners2</th>\n",
       "      <th>rec2</th>\n",
       "      <th>pass2</th>\n",
       "      <th>rush2</th>\n",
       "    </tr>\n",
       "  </thead>\n",
       "  <tbody>\n",
       "    <tr>\n",
       "      <th>0</th>\n",
       "      <td>Brandon LaFell</td>\n",
       "      <td>Oak</td>\n",
       "      <td>WR</td>\n",
       "      <td>6</td>\n",
       "      <td>46.000000</td>\n",
       "      <td>NaN</td>\n",
       "      <td>NaN</td>\n",
       "      <td>Cin</td>\n",
       "      <td>WR</td>\n",
       "      <td>16.0</td>\n",
       "      <td>...</td>\n",
       "      <td>23.299999</td>\n",
       "      <td>0.868933</td>\n",
       "      <td>0</td>\n",
       "      <td>0</td>\n",
       "      <td>0</td>\n",
       "      <td>1</td>\n",
       "      <td>0.0001</td>\n",
       "      <td>9.0</td>\n",
       "      <td>0.0</td>\n",
       "      <td>0.0</td>\n",
       "    </tr>\n",
       "    <tr>\n",
       "      <th>1</th>\n",
       "      <td>Lance Kendricks</td>\n",
       "      <td>NE</td>\n",
       "      <td>TE</td>\n",
       "      <td>16</td>\n",
       "      <td>47.330002</td>\n",
       "      <td>NaN</td>\n",
       "      <td>NaN</td>\n",
       "      <td>GB</td>\n",
       "      <td>TE</td>\n",
       "      <td>16.0</td>\n",
       "      <td>...</td>\n",
       "      <td>18.500000</td>\n",
       "      <td>0.555103</td>\n",
       "      <td>0</td>\n",
       "      <td>0</td>\n",
       "      <td>1</td>\n",
       "      <td>0</td>\n",
       "      <td>0.0000</td>\n",
       "      <td>1.0</td>\n",
       "      <td>0.0</td>\n",
       "      <td>0.0</td>\n",
       "    </tr>\n",
       "    <tr>\n",
       "      <th>9</th>\n",
       "      <td>Cody Latimer</td>\n",
       "      <td>NYG</td>\n",
       "      <td>WR</td>\n",
       "      <td>6</td>\n",
       "      <td>49.970001</td>\n",
       "      <td>NaN</td>\n",
       "      <td>NaN</td>\n",
       "      <td>NYG</td>\n",
       "      <td>WR</td>\n",
       "      <td>11.0</td>\n",
       "      <td>...</td>\n",
       "      <td>24.299999</td>\n",
       "      <td>0.931935</td>\n",
       "      <td>0</td>\n",
       "      <td>0</td>\n",
       "      <td>0</td>\n",
       "      <td>1</td>\n",
       "      <td>0.0000</td>\n",
       "      <td>4.0</td>\n",
       "      <td>0.0</td>\n",
       "      <td>0.0</td>\n",
       "    </tr>\n",
       "    <tr>\n",
       "      <th>12</th>\n",
       "      <td>Luke Stocker</td>\n",
       "      <td>Atl</td>\n",
       "      <td>TE</td>\n",
       "      <td>16</td>\n",
       "      <td>52.000000</td>\n",
       "      <td>NaN</td>\n",
       "      <td>NaN</td>\n",
       "      <td>Ten</td>\n",
       "      <td>TE</td>\n",
       "      <td>12.0</td>\n",
       "      <td>...</td>\n",
       "      <td>19.700001</td>\n",
       "      <td>0.745967</td>\n",
       "      <td>0</td>\n",
       "      <td>0</td>\n",
       "      <td>1</td>\n",
       "      <td>0</td>\n",
       "      <td>0.0000</td>\n",
       "      <td>1.0</td>\n",
       "      <td>0.0</td>\n",
       "      <td>0.0</td>\n",
       "    </tr>\n",
       "    <tr>\n",
       "      <th>13</th>\n",
       "      <td>Deonte Thompson</td>\n",
       "      <td>NYJ</td>\n",
       "      <td>WR</td>\n",
       "      <td>13</td>\n",
       "      <td>52.430000</td>\n",
       "      <td>NaN</td>\n",
       "      <td>NaN</td>\n",
       "      <td>Dal</td>\n",
       "      <td>WR</td>\n",
       "      <td>16.0</td>\n",
       "      <td>...</td>\n",
       "      <td>23.900000</td>\n",
       "      <td>0.716716</td>\n",
       "      <td>0</td>\n",
       "      <td>0</td>\n",
       "      <td>0</td>\n",
       "      <td>1</td>\n",
       "      <td>0.0001</td>\n",
       "      <td>4.0</td>\n",
       "      <td>0.0</td>\n",
       "      <td>0.0</td>\n",
       "    </tr>\n",
       "  </tbody>\n",
       "</table>\n",
       "<p>5 rows × 46 columns</p>\n",
       "</div>"
      ],
      "text/plain": [
       "            l_names l_team18 l_pos18  l_gp18  l_points18  draft_pick  cost  \\\n",
       "0    Brandon LaFell      Oak      WR       6   46.000000         NaN   NaN   \n",
       "1   Lance Kendricks       NE      TE      16   47.330002         NaN   NaN   \n",
       "9      Cody Latimer      NYG      WR       6   49.970001         NaN   NaN   \n",
       "12     Luke Stocker      Atl      TE      16   52.000000         NaN   NaN   \n",
       "13  Deonte Thompson      NYJ      WR      13   52.430000         NaN   NaN   \n",
       "\n",
       "   l_team17 l_pos17  l_gp17  ...  def_ptsg17     train  QB  RB  TE  WR  \\\n",
       "0       Cin      WR    16.0  ...   23.299999  0.868933   0   0   0   1   \n",
       "1        GB      TE    16.0  ...   18.500000  0.555103   0   0   1   0   \n",
       "9       NYG      WR    11.0  ...   24.299999  0.931935   0   0   0   1   \n",
       "12      Ten      TE    12.0  ...   19.700001  0.745967   0   0   1   0   \n",
       "13      Dal      WR    16.0  ...   23.900000  0.716716   0   0   0   1   \n",
       "\n",
       "    owners2  rec2  pass2  rush2  \n",
       "0    0.0001   9.0    0.0    0.0  \n",
       "1    0.0000   1.0    0.0    0.0  \n",
       "9    0.0000   4.0    0.0    0.0  \n",
       "12   0.0000   1.0    0.0    0.0  \n",
       "13   0.0001   4.0    0.0    0.0  \n",
       "\n",
       "[5 rows x 46 columns]"
      ]
     },
     "execution_count": 10,
     "metadata": {},
     "output_type": "execute_result"
    }
   ],
   "source": [
    "data.head()"
   ]
  },
  {
   "cell_type": "code",
   "execution_count": 11,
   "metadata": {},
   "outputs": [
    {
     "data": {
      "text/plain": [
       "(113, 46)"
      ]
     },
     "execution_count": 11,
     "metadata": {},
     "output_type": "execute_result"
    }
   ],
   "source": [
    "data.shape"
   ]
  },
  {
   "cell_type": "code",
   "execution_count": 12,
   "metadata": {},
   "outputs": [],
   "source": [
    "X = data[vals].values\n",
    "y = data['l_points18'].values"
   ]
  },
  {
   "cell_type": "code",
   "execution_count": 13,
   "metadata": {},
   "outputs": [
    {
     "data": {
      "text/plain": [
       "<matplotlib.axes._subplots.AxesSubplot at 0x1c1ec31780>"
      ]
     },
     "execution_count": 13,
     "metadata": {},
     "output_type": "execute_result"
    },
    {
     "data": {
      "image/png": "[encoded data removed]",
      "text/plain": [
       "<Figure size 1080x720 with 1 Axes>"
      ]
     },
     "metadata": {
      "needs_background": "light"
     },
     "output_type": "display_data"
    }
   ],
   "source": [
    "plt.figure(figsize=(15,10))\n",
    "plt.tight_layout()\n",
    "sns.distplot(data['l_points18'])"
   ]
  },
  {
   "cell_type": "code",
   "execution_count": 33,
   "metadata": {},
   "outputs": [],
   "source": [
    "def mse(y, y_bar):\n",
    "    summation = 0\n",
    "    n = len(y)\n",
    "    for i in range (0,n):\n",
    "        difference = y[i] - y_bar[i]\n",
    "        squared_difference = difference**2\n",
    "        summation = summation + squared_difference\n",
    "    MSE = summation/n\n",
    "    return MSE"
   ]
  },
  {
   "cell_type": "code",
   "execution_count": 34,
   "metadata": {},
   "outputs": [],
   "source": [
    "X_train, X_test, y_train, y_test = train_test_split(X, y, test_size=0.2, random_state=10)"
   ]
  },
  {
   "cell_type": "code",
   "execution_count": 35,
   "metadata": {},
   "outputs": [],
   "source": [
    "lasso = Lasso()\n",
    "lasso.fit(X_train,y_train)\n",
    "train_score=lasso.score(X_train,y_train)\n",
    "test_score=lasso.score(X_test,y_test)\n",
    "coeff_used = np.sum(lasso.coef_!=0)"
   ]
  },
  {
   "cell_type": "code",
   "execution_count": 36,
   "metadata": {},
   "outputs": [
    {
     "name": "stdout",
     "output_type": "stream",
     "text": [
      "training score: 0.43530158445396033\n",
      "test score:  0.5688269578516079\n",
      "number of features used:  9\n"
     ]
    },
    {
     "data": {
      "text/plain": [
       "Lasso(alpha=0.01, copy_X=True, fit_intercept=True, max_iter=1000000.0,\n",
       "      normalize=False, positive=False, precompute=False, random_state=None,\n",
       "      selection='cyclic', tol=0.0001, warm_start=False)"
      ]
     },
     "execution_count": 36,
     "metadata": {},
     "output_type": "execute_result"
    }
   ],
   "source": [
    "print(\"training score:\", train_score)\n",
    "print(\"test score: \", test_score)\n",
    "print(\"number of features used: \", coeff_used)\n",
    "lasso001 = Lasso(alpha=0.01, max_iter=10e5)\n",
    "lasso001.fit(X_train,y_train)"
   ]
  },
  {
   "cell_type": "code",
   "execution_count": 37,
   "metadata": {
    "scrolled": false
   },
   "outputs": [
    {
     "name": "stdout",
     "output_type": "stream",
     "text": [
      "training score for alpha=0.01: 0.4368220905748097\n",
      "test score for alpha =0.01:  0.5742897443116027\n",
      "number of features used: for alpha =0.01: 10\n",
      "training score for alpha=0.0001: 0.43682226667733126\n",
      "test score for alpha =0.0001:  0.5743064003537318\n",
      "number of features used: for alpha =0.0001: 10\n",
      "MSE: 3213.724113232207\n",
      "RMSE: 56.68971787927866\n"
     ]
    },
    {
     "data": {
      "text/plain": [
       "l_actual17      0.014661\n",
       "l_points17      1.420065\n",
       "l_owners17     63.370127\n",
       "l_passtd17     -6.883892\n",
       "l_passint17    -1.746611\n",
       "l_rushyds17    -0.166341\n",
       "l_rushtd17      0.000000\n",
       "l_recepts17    -2.259922\n",
       "l_recyds17     -0.034673\n",
       "l_rectd17      -7.208525\n",
       "dtype: float64"
      ]
     },
     "execution_count": 37,
     "metadata": {},
     "output_type": "execute_result"
    }
   ],
   "source": [
    "train_score001=lasso001.score(X_train,y_train)\n",
    "test_score001=lasso001.score(X_test,y_test)\n",
    "coeff_used001 = np.sum(lasso001.coef_!=0)\n",
    "print(\"training score for alpha=0.01:\", train_score001)\n",
    "print(\"test score for alpha =0.01: \", test_score001)\n",
    "print(\"number of features used: for alpha =0.01:\", coeff_used001)\n",
    "lasso00001 = Lasso(alpha=0.0001, max_iter=10e5)\n",
    "lasso00001.fit(X_train,y_train)\n",
    "train_score00001=lasso00001.score(X_train,y_train)\n",
    "test_score00001=lasso00001.score(X_test,y_test)\n",
    "coeff_used00001 = np.sum(lasso00001.coef_!=0)\n",
    "print(\"training score for alpha=0.0001:\", train_score00001)\n",
    "print(\"test score for alpha =0.0001: \", test_score00001)\n",
    "print(\"number of features used: for alpha =0.0001:\", coeff_used00001)\n",
    "\n",
    "err = mse(y_test, lasso.predict(X_test))\n",
    "print(\"{}: {}\\n{}: {}\".format(\"MSE\", err, \"RMSE\", math.sqrt(err)))\n",
    "pd.Series(lasso.coef_, index=vals)"
   ]
  },
  {
   "cell_type": "code",
   "execution_count": 38,
   "metadata": {},
   "outputs": [],
   "source": [
    "regressor = LinearRegression()\n",
    "regressor.fit(X_train, y_train)\n",
    "r_train_score = regressor.score(X_train, y_train)\n",
    "r_test_score = regressor.score(X_test, y_test)"
   ]
  },
  {
   "cell_type": "code",
   "execution_count": 39,
   "metadata": {
    "scrolled": false
   },
   "outputs": [
    {
     "name": "stdout",
     "output_type": "stream",
     "text": [
      "l_actual17\t\t0.020981225486282232\n",
      "l_points17\t\t1.513511051739794\n",
      "l_owners17\t\t74.37362633909261\n",
      "l_passtd17\t\t-7.748998015598621\n",
      "l_passint17\t\t-2.1815480997801817\n",
      "l_rushyds17\t\t-0.1836113670280964\n",
      "l_rushtd17\t\t-0.5117623571562252\n",
      "l_recepts17\t\t-2.413675464698972\n",
      "l_recyds17\t\t-0.04277336216698559\n",
      "l_rectd17\t\t-8.672205317369999\n"
     ]
    }
   ],
   "source": [
    "for i in range(len(vals)):\n",
    "    print(\"{}\\t\\t{}\".format(vals[i], regressor.coef_[i]))"
   ]
  },
  {
   "cell_type": "code",
   "execution_count": 40,
   "metadata": {},
   "outputs": [
    {
     "name": "stdout",
     "output_type": "stream",
     "text": [
      "LR training score: 0.4368222666949434\n",
      "LR test score:  0.574306566369138\n"
     ]
    }
   ],
   "source": [
    "print(\"LR training score:\", r_train_score)\n",
    "print(\"LR test score: \", r_test_score)"
   ]
  },
  {
   "cell_type": "code",
   "execution_count": 41,
   "metadata": {},
   "outputs": [],
   "source": [
    "y_pred = regressor.predict(X_test)"
   ]
  },
  {
   "cell_type": "code",
   "execution_count": 42,
   "metadata": {},
   "outputs": [],
   "source": [
    "df = pd.DataFrame({'Actual':y_test, 'Predicted':y_pred})\n",
    "df1 = df.head(25)"
   ]
  },
  {
   "cell_type": "code",
   "execution_count": 43,
   "metadata": {},
   "outputs": [
    {
     "data": {
      "image/png": "[encoded data removed]",
      "text/plain": [
       "<Figure size 720x576 with 1 Axes>"
      ]
     },
     "metadata": {
      "needs_background": "light"
     },
     "output_type": "display_data"
    }
   ],
   "source": [
    "df1.plot(kind='bar',figsize=(10,8))\n",
    "plt.grid(which='major', linestyle='-', linewidth='0.5', color='green')\n",
    "plt.grid(which='minor', linestyle=':', linewidth='0.5', color='black')\n",
    "plt.show()"
   ]
  },
  {
   "cell_type": "code",
   "execution_count": 44,
   "metadata": {},
   "outputs": [
    {
     "name": "stdout",
     "output_type": "stream",
     "text": [
      "Mean Absolute Error: 45.71192776785379\n",
      "Mean Squared Error: 3172.882158141242\n",
      "Root Mean Squared Error: 56.32834240541117\n"
     ]
    }
   ],
   "source": [
    "print('Mean Absolute Error:', metrics.mean_absolute_error(y_test, y_pred))  \n",
    "print('Mean Squared Error:', metrics.mean_squared_error(y_test, y_pred))  \n",
    "print('Root Mean Squared Error:', np.sqrt(metrics.mean_squared_error(y_test, y_pred)))"
   ]
  },
  {
   "cell_type": "code",
   "execution_count": 45,
   "metadata": {},
   "outputs": [
    {
     "data": {
      "image/png": "[encoded data removed]",
      "text/plain": [
       "<Figure size 432x288 with 2 Axes>"
      ]
     },
     "metadata": {
      "needs_background": "light"
     },
     "output_type": "display_data"
    }
   ],
   "source": [
    "plt.subplot(1,2,1)\n",
    "plt.plot(lasso.coef_,alpha=0.7,linestyle='none',marker='*',markersize=5,color='red',label=r'Lasso; $\\alpha = 1$',zorder=7) # alpha here is for transparency\n",
    "plt.plot(lasso001.coef_,alpha=0.5,linestyle='none',marker='d',markersize=6,color='blue',label=r'Lasso; $\\alpha = 0.01$') # alpha here is for transparency\n",
    "\n",
    "plt.xlabel('Coefficient Index',fontsize=16)\n",
    "plt.ylabel('Coefficient Magnitude',fontsize=16)\n",
    "plt.legend(fontsize=13,loc=4)\n",
    "plt.subplot(1,2,2)\n",
    "plt.plot(lasso.coef_,alpha=0.7,linestyle='none',marker='*',markersize=5,color='red',label=r'Lasso; $\\alpha = 1$',zorder=7) # alpha here is for transparency\n",
    "plt.plot(lasso001.coef_,alpha=0.5,linestyle='none',marker='d',markersize=6,color='blue',label=r'Lasso; $\\alpha = 0.01$') # alpha here is for transparency\n",
    "plt.plot(lasso00001.coef_,alpha=0.8,linestyle='none',marker='v',markersize=6,color='black',label=r'Lasso; $\\alpha = 0.00001$') # alpha here is for transparency\n",
    "plt.plot(regressor.coef_,alpha=0.7,linestyle='none',marker='o',markersize=5,color='green',label='Linear Regression',zorder=2)\n",
    "plt.xlabel('Coefficient Index',fontsize=16)\n",
    "plt.ylabel('Coefficient Magnitude',fontsize=16)\n",
    "plt.legend(fontsize=13,loc=4)\n",
    "plt.tight_layout()\n",
    "plt.show()\n"
   ]
  },
  {
   "cell_type": "code",
   "execution_count": 46,
   "metadata": {},
   "outputs": [
    {
     "data": {
      "text/plain": [
       "array([5.00000000e+02, 3.69536102e+02, 2.73113861e+02, 2.01850863e+02,\n",
       "       1.49182362e+02, 1.10256537e+02, 8.14875417e+01, 6.02251770e+01,\n",
       "       4.45107543e+01, 3.28966612e+01, 2.43130079e+01, 1.79690683e+01,\n",
       "       1.32804389e+01, 9.81520325e+00, 7.25414389e+00, 5.36133611e+00,\n",
       "       3.96241449e+00, 2.92851041e+00, 2.16438064e+00, 1.59963357e+00,\n",
       "       1.18224471e+00, 8.73764200e-01, 6.45774833e-01, 4.77274228e-01,\n",
       "       3.52740116e-01, 2.60700414e-01, 1.92676430e-01, 1.42401793e-01,\n",
       "       1.05245207e-01, 7.77838072e-02, 5.74878498e-02, 4.24876718e-02,\n",
       "       3.14014572e-02, 2.32079442e-02, 1.71523464e-02, 1.26768225e-02,\n",
       "       9.36908711e-03, 6.92443186e-03, 5.11765511e-03, 3.78231664e-03,\n",
       "       2.79540509e-03, 2.06600620e-03, 1.52692775e-03, 1.12850986e-03,\n",
       "       8.34050269e-04, 6.16423370e-04, 4.55581378e-04, 3.36707533e-04,\n",
       "       2.48851178e-04, 1.83918989e-04, 1.35929412e-04, 1.00461650e-04,\n",
       "       7.42484131e-05, 5.48749383e-05, 4.05565415e-05, 2.99742125e-05,\n",
       "       2.21531073e-05, 1.63727458e-05, 1.21006413e-05, 8.94324765e-06,\n",
       "       6.60970574e-06, 4.88504979e-06, 3.61040451e-06, 2.66834962e-06,\n",
       "       1.97210303e-06, 1.45752653e-06, 1.07721735e-06, 7.96141397e-07,\n",
       "       5.88405976e-07, 4.34874501e-07, 3.21403656e-07, 2.37540508e-07,\n",
       "       1.75559587e-07, 1.29751211e-07, 9.58955131e-08, 7.08737081e-08,\n",
       "       5.23807876e-08, 3.87131841e-08, 2.86118383e-08, 2.11462144e-08,\n",
       "       1.56285792e-08, 1.15506485e-08, 8.53676324e-09, 6.30928442e-09,\n",
       "       4.66301673e-09, 3.44630605e-09, 2.54706901e-09, 1.88246790e-09,\n",
       "       1.39127970e-09, 1.02825615e-09, 7.59955541e-10, 5.61662016e-10,\n",
       "       4.15108784e-10, 3.06795364e-10, 2.26743925e-10, 1.67580133e-10,\n",
       "       1.23853818e-10, 9.15369140e-11, 6.76523887e-11, 5.00000000e-11])"
      ]
     },
     "execution_count": 46,
     "metadata": {},
     "output_type": "execute_result"
    }
   ],
   "source": [
    "alphas = 10**np.linspace(3,-10,100)*0.5\n",
    "alphas"
   ]
  },
  {
   "cell_type": "code",
   "execution_count": 47,
   "metadata": {},
   "outputs": [
    {
     "data": {
      "text/plain": [
       "Text(0, 0.5, 'weights')"
      ]
     },
     "execution_count": 47,
     "metadata": {},
     "output_type": "execute_result"
    },
    {
     "data": {
      "image/png": "[encoded data removed]",
      "text/plain": [
       "<Figure size 432x288 with 1 Axes>"
      ]
     },
     "metadata": {
      "needs_background": "light"
     },
     "output_type": "display_data"
    }
   ],
   "source": [
    "lasso = Lasso(max_iter = 10000, normalize = True)\n",
    "coefs = []\n",
    "\n",
    "for a in alphas:\n",
    "    lasso.set_params(alpha=a)\n",
    "    lasso.fit(X_train, y_train)\n",
    "    coefs.append(lasso.coef_)\n",
    "    \n",
    "ax = plt.gca()\n",
    "ax.plot(alphas*2, coefs)\n",
    "ax.set_xscale('log')\n",
    "plt.axis('tight')\n",
    "plt.xlabel('alpha')\n",
    "plt.ylabel('weights')"
   ]
  },
  {
   "cell_type": "code",
   "execution_count": null,
   "metadata": {},
   "outputs": [],
   "source": []
  },
  {
   "cell_type": "code",
   "execution_count": 48,
   "metadata": {
    "scrolled": true
   },
   "outputs": [
    {
     "name": "stdout",
     "output_type": "stream",
     "text": [
      "MSE: 3301.0726554034163\n",
      "RMSE: 57.454961973735706\n"
     ]
    },
    {
     "data": {
      "text/plain": [
       "l_actual17     -0.000000\n",
       "l_points17      0.364071\n",
       "l_owners17     46.622225\n",
       "l_passtd17      0.000000\n",
       "l_passint17     0.000000\n",
       "l_rushyds17     0.000000\n",
       "l_rushtd17      0.000000\n",
       "l_recepts17    -0.000000\n",
       "l_recyds17     -0.000000\n",
       "l_rectd17      -0.000000\n",
       "dtype: float64"
      ]
     },
     "execution_count": 48,
     "metadata": {},
     "output_type": "execute_result"
    }
   ],
   "source": [
    "from sklearn.linear_model import LassoCV\n",
    "import math\n",
    "\n",
    "lassocv = LassoCV(alphas = None, cv = 4, max_iter = 100000, normalize = True)\n",
    "lassocv.fit(X_train, y_train)\n",
    "\n",
    "lasso.set_params(alpha=lassocv.alpha_)\n",
    "lasso.fit(X_train, y_train)\n",
    "err = mse(y_test, lasso.predict(X_test))\n",
    "print(\"{}: {}\\n{}: {}\".format(\"MSE\", err, \"RMSE\", math.sqrt(err)))\n",
    "pd.Series(lasso.coef_, index=vals)"
   ]
  },
  {
   "cell_type": "code",
   "execution_count": 49,
   "metadata": {},
   "outputs": [],
   "source": [
    "import resample\n",
    "from resample.bootstrap import bootstrap\n",
    "from sklearn.preprocessing import StandardScaler\n",
    "from sklearn.linear_model import LinearRegression\n",
    "\n",
    "def fitreg(A):\n",
    "    lassocv = LassoCV(alphas = None, cv = 4, max_iter = 100000, normalize = True)\n",
    "    lassocv.fit(X_train, y_train)\n",
    "    lasso.set_params(alpha=lassocv.alpha_)\n",
    "    lasso.fit(X_train, y_train)\n",
    "    err = mse(y_test, lasso.predict(X_test))\n",
    "    return {\"coef\": lasso.coef_, \"intercept\": lasso.intercept_}\n",
    "\n",
    "boot_coef = bootstrap(a=data, f=fitreg, b=5000)"
   ]
  },
  {
   "cell_type": "code",
   "execution_count": 50,
   "metadata": {},
   "outputs": [
    {
     "name": "stdout",
     "output_type": "stream",
     "text": [
      "[{'coef': array([-0.        ,  0.36407079, 46.62222532,  0.        ,  0.        ,\n",
      "        0.        ,  0.        , -0.        , -0.        , -0.        ]), 'intercept': 96.05923844263027}\n",
      " {'coef': array([-0.        ,  0.36407079, 46.62222532,  0.        ,  0.        ,\n",
      "        0.        ,  0.        , -0.        , -0.        , -0.        ]), 'intercept': 96.05923844263027}\n",
      " {'coef': array([-0.        ,  0.36407079, 46.62222532,  0.        ,  0.        ,\n",
      "        0.        ,  0.        , -0.        , -0.        , -0.        ]), 'intercept': 96.05923844263027}\n",
      " ...\n",
      " {'coef': array([-0.        ,  0.36407079, 46.62222532,  0.        ,  0.        ,\n",
      "        0.        ,  0.        , -0.        , -0.        , -0.        ]), 'intercept': 96.05923844263027}\n",
      " {'coef': array([-0.        ,  0.36407079, 46.62222532,  0.        ,  0.        ,\n",
      "        0.        ,  0.        , -0.        , -0.        , -0.        ]), 'intercept': 96.05923844263027}\n",
      " {'coef': array([-0.        ,  0.36407079, 46.62222532,  0.        ,  0.        ,\n",
      "        0.        ,  0.        , -0.        , -0.        , -0.        ]), 'intercept': 96.05923844263027}]\n"
     ]
    }
   ],
   "source": [
    "print(boot_coef)"
   ]
  },
  {
   "cell_type": "code",
   "execution_count": null,
   "metadata": {},
   "outputs": [],
   "source": []
  },
  {
   "cell_type": "code",
   "execution_count": null,
   "metadata": {},
   "outputs": [],
   "source": []
  },
  {
   "cell_type": "code",
   "execution_count": null,
   "metadata": {},
   "outputs": [],
   "source": []
  },
  {
   "cell_type": "code",
   "execution_count": null,
   "metadata": {},
   "outputs": [],
   "source": []
  }
 ],
 "metadata": {
  "kernelspec": {
   "display_name": "Python 3",
   "language": "python",
   "name": "python3"
  },
  "language_info": {
   "codemirror_mode": {
    "name": "ipython",
    "version": 3
   },
   "file_extension": ".py",
   "mimetype": "text/x-python",
   "name": "python",
   "nbconvert_exporter": "python",
   "pygments_lexer": "ipython3",
   "version": "3.7.3"
  }
 },
 "nbformat": 4,
 "nbformat_minor": 2
}
